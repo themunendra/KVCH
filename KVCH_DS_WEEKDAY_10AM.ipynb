{
  "nbformat": 4,
  "nbformat_minor": 0,
  "metadata": {
    "colab": {
      "name": "KVCH-DS-WEEKDAY-10AM.ipynb",
      "provenance": [],
      "authorship_tag": "ABX9TyP3gpZNHTHSannQoVNP5+eZ",
      "include_colab_link": true
    },
    "kernelspec": {
      "name": "python3",
      "display_name": "Python 3"
    }
  },
  "cells": [
    {
      "cell_type": "markdown",
      "metadata": {
        "id": "view-in-github",
        "colab_type": "text"
      },
      "source": [
        "<a href=\"https://colab.research.google.com/github/themunendra/KVCH/blob/master/KVCH_DS_WEEKDAY_10AM.ipynb\" target=\"_parent\"><img src=\"https://colab.research.google.com/assets/colab-badge.svg\" alt=\"Open In Colab\"/></a>"
      ]
    },
    {
      "cell_type": "markdown",
      "metadata": {
        "id": "H94GUMEIjAxx",
        "colab_type": "text"
      },
      "source": [
        "# List comprehension"
      ]
    },
    {
      "cell_type": "code",
      "metadata": {
        "id": "yS4zdT7bjIOH",
        "colab_type": "code",
        "colab": {}
      },
      "source": [
        "list1 = [0,1,2,3,4,5,6,7,8,9,10]"
      ],
      "execution_count": null,
      "outputs": []
    },
    {
      "cell_type": "code",
      "metadata": {
        "id": "lG1t0fwonvpU",
        "colab_type": "code",
        "colab": {
          "base_uri": "https://localhost:8080/",
          "height": 34
        },
        "outputId": "0d009502-993a-4dcc-9bf2-8a3a44448ce4"
      },
      "source": [
        "list1"
      ],
      "execution_count": null,
      "outputs": [
        {
          "output_type": "execute_result",
          "data": {
            "text/plain": [
              "[0, 1, 2, 3, 4, 5, 6, 7, 8, 9, 10]"
            ]
          },
          "metadata": {
            "tags": []
          },
          "execution_count": 2
        }
      ]
    },
    {
      "cell_type": "markdown",
      "metadata": {
        "id": "sfTRmd8qn1df",
        "colab_type": "text"
      },
      "source": [
        "Syntex: [operation_on_element for element in list]"
      ]
    },
    {
      "cell_type": "code",
      "metadata": {
        "id": "192NBwz5oE-Y",
        "colab_type": "code",
        "colab": {
          "base_uri": "https://localhost:8080/",
          "height": 34
        },
        "outputId": "c3e52e99-9049-4419-cf92-7d9a27fa1451"
      },
      "source": [
        "list1[::2]"
      ],
      "execution_count": null,
      "outputs": [
        {
          "output_type": "execute_result",
          "data": {
            "text/plain": [
              "[0, 2, 4, 6, 8, 10]"
            ]
          },
          "metadata": {
            "tags": []
          },
          "execution_count": 3
        }
      ]
    },
    {
      "cell_type": "code",
      "metadata": {
        "id": "jOb8abBeoJ-0",
        "colab_type": "code",
        "colab": {}
      },
      "source": [
        "list2 = [x**2 for x in list1]"
      ],
      "execution_count": null,
      "outputs": []
    },
    {
      "cell_type": "code",
      "metadata": {
        "id": "j_7WX_H0oXmT",
        "colab_type": "code",
        "colab": {
          "base_uri": "https://localhost:8080/",
          "height": 34
        },
        "outputId": "aa27c198-1707-42d9-9725-9ca1f40e8131"
      },
      "source": [
        "list2"
      ],
      "execution_count": null,
      "outputs": [
        {
          "output_type": "execute_result",
          "data": {
            "text/plain": [
              "[0, 1, 4, 9, 16, 25, 36, 49, 64, 81, 100]"
            ]
          },
          "metadata": {
            "tags": []
          },
          "execution_count": 5
        }
      ]
    },
    {
      "cell_type": "code",
      "metadata": {
        "id": "xmo4m2fSoYbb",
        "colab_type": "code",
        "colab": {}
      },
      "source": [
        "name = ['Munendra','Vinay','Arpita']"
      ],
      "execution_count": null,
      "outputs": []
    },
    {
      "cell_type": "code",
      "metadata": {
        "id": "34WWnLGyorFY",
        "colab_type": "code",
        "colab": {}
      },
      "source": [
        "initials = [x[0] for x in name]"
      ],
      "execution_count": null,
      "outputs": []
    },
    {
      "cell_type": "code",
      "metadata": {
        "id": "RVlirXYho0K8",
        "colab_type": "code",
        "colab": {
          "base_uri": "https://localhost:8080/",
          "height": 34
        },
        "outputId": "4014456a-e75c-4f5f-8760-a65505fc2604"
      },
      "source": [
        "initials"
      ],
      "execution_count": null,
      "outputs": [
        {
          "output_type": "execute_result",
          "data": {
            "text/plain": [
              "['M', 'V', 'A']"
            ]
          },
          "metadata": {
            "tags": []
          },
          "execution_count": 8
        }
      ]
    },
    {
      "cell_type": "code",
      "metadata": {
        "id": "02cJUeQ4o1UY",
        "colab_type": "code",
        "colab": {}
      },
      "source": [
        "list3 = [x for x in list1 if x%2==0]"
      ],
      "execution_count": null,
      "outputs": []
    },
    {
      "cell_type": "code",
      "metadata": {
        "id": "fOa8wiGVpVt3",
        "colab_type": "code",
        "colab": {
          "base_uri": "https://localhost:8080/",
          "height": 34
        },
        "outputId": "085228cd-0b4c-4f85-d517-45fa3f6c2619"
      },
      "source": [
        "list3"
      ],
      "execution_count": null,
      "outputs": [
        {
          "output_type": "execute_result",
          "data": {
            "text/plain": [
              "[0, 2, 4, 6, 8, 10]"
            ]
          },
          "metadata": {
            "tags": []
          },
          "execution_count": 10
        }
      ]
    },
    {
      "cell_type": "code",
      "metadata": {
        "id": "byH-CzH5pWtz",
        "colab_type": "code",
        "colab": {}
      },
      "source": [
        "list4 = [x**2 if x%2==0 else x**3 for x in list1]"
      ],
      "execution_count": null,
      "outputs": []
    },
    {
      "cell_type": "code",
      "metadata": {
        "id": "iFvLTnbWp9T3",
        "colab_type": "code",
        "colab": {
          "base_uri": "https://localhost:8080/",
          "height": 34
        },
        "outputId": "ebb30284-07e2-4648-c259-f1f5ac4bae92"
      },
      "source": [
        "list4"
      ],
      "execution_count": null,
      "outputs": [
        {
          "output_type": "execute_result",
          "data": {
            "text/plain": [
              "[0, 1, 4, 27, 16, 125, 36, 343, 64, 729, 100]"
            ]
          },
          "metadata": {
            "tags": []
          },
          "execution_count": 12
        }
      ]
    },
    {
      "cell_type": "code",
      "metadata": {
        "id": "It2X-VV2p-Pv",
        "colab_type": "code",
        "colab": {}
      },
      "source": [
        "list1.append('Hello')"
      ],
      "execution_count": null,
      "outputs": []
    },
    {
      "cell_type": "code",
      "metadata": {
        "id": "CxHk9MEIqQGv",
        "colab_type": "code",
        "colab": {
          "base_uri": "https://localhost:8080/",
          "height": 34
        },
        "outputId": "2b41046f-661b-4a23-f392-6e78a9338de5"
      },
      "source": [
        "list1"
      ],
      "execution_count": null,
      "outputs": [
        {
          "output_type": "execute_result",
          "data": {
            "text/plain": [
              "[0, 1, 2, 3, 4, 5, 6, 7, 8, 9, 10, 'Hello']"
            ]
          },
          "metadata": {
            "tags": []
          },
          "execution_count": 15
        }
      ]
    },
    {
      "cell_type": "code",
      "metadata": {
        "id": "dfy9_rgUqVH7",
        "colab_type": "code",
        "colab": {}
      },
      "source": [
        "list5 = [x**2 if x%2==0 else x**3 for x in list1 if type(x)==int]"
      ],
      "execution_count": null,
      "outputs": []
    },
    {
      "cell_type": "code",
      "metadata": {
        "id": "2JqWtyhFqdyL",
        "colab_type": "code",
        "colab": {
          "base_uri": "https://localhost:8080/",
          "height": 34
        },
        "outputId": "bbd185b4-89d8-4232-ffb7-35c4e181c4d5"
      },
      "source": [
        "list5"
      ],
      "execution_count": null,
      "outputs": [
        {
          "output_type": "execute_result",
          "data": {
            "text/plain": [
              "[0, 1, 4, 27, 16, 125, 36, 343, 64, 729, 100]"
            ]
          },
          "metadata": {
            "tags": []
          },
          "execution_count": 18
        }
      ]
    },
    {
      "cell_type": "markdown",
      "metadata": {
        "id": "PA2R73Vmq_0r",
        "colab_type": "text"
      },
      "source": [
        "# Dictionary Comprehension"
      ]
    },
    {
      "cell_type": "code",
      "metadata": {
        "id": "A7LjS97JqqBf",
        "colab_type": "code",
        "colab": {
          "base_uri": "https://localhost:8080/",
          "height": 35
        },
        "outputId": "94d721b4-ee68-4910-abdc-a3ce9bc075fe"
      },
      "source": [
        "list1.pop()"
      ],
      "execution_count": null,
      "outputs": [
        {
          "output_type": "execute_result",
          "data": {
            "application/vnd.google.colaboratory.intrinsic": {
              "type": "string"
            },
            "text/plain": [
              "'Hello'"
            ]
          },
          "metadata": {
            "tags": []
          },
          "execution_count": 19
        }
      ]
    },
    {
      "cell_type": "code",
      "metadata": {
        "id": "TiTacIeSrFQ3",
        "colab_type": "code",
        "colab": {
          "base_uri": "https://localhost:8080/",
          "height": 34
        },
        "outputId": "3c232c23-0c85-4d60-cf81-1d6e7f3b05ed"
      },
      "source": [
        "dict1= {x:x**2 for x in list1}\n",
        "dict1"
      ],
      "execution_count": null,
      "outputs": [
        {
          "output_type": "execute_result",
          "data": {
            "text/plain": [
              "{0: 0, 1: 1, 2: 4, 3: 9, 4: 16, 5: 25, 6: 36, 7: 49, 8: 64, 9: 81, 10: 100}"
            ]
          },
          "metadata": {
            "tags": []
          },
          "execution_count": 20
        }
      ]
    },
    {
      "cell_type": "code",
      "metadata": {
        "id": "A5UZ7MXorccb",
        "colab_type": "code",
        "colab": {
          "base_uri": "https://localhost:8080/",
          "height": 34
        },
        "outputId": "fdc962ae-eaf6-4113-c6cf-2d13bb3afe64"
      },
      "source": [
        "dict2 = {x:x**2 for x in range(11)}\n",
        "dict2"
      ],
      "execution_count": null,
      "outputs": [
        {
          "output_type": "execute_result",
          "data": {
            "text/plain": [
              "{0: 0, 1: 1, 2: 4, 3: 9, 4: 16, 5: 25, 6: 36, 7: 49, 8: 64, 9: 81, 10: 100}"
            ]
          },
          "metadata": {
            "tags": []
          },
          "execution_count": 21
        }
      ]
    },
    {
      "cell_type": "code",
      "metadata": {
        "id": "bRWZXspNrpvT",
        "colab_type": "code",
        "colab": {}
      },
      "source": [
        "inr= {'milk': 25, 'bread': 35, 'butter': 50}"
      ],
      "execution_count": null,
      "outputs": []
    },
    {
      "cell_type": "code",
      "metadata": {
        "id": "nlGIkap8sRn_",
        "colab_type": "code",
        "colab": {
          "base_uri": "https://localhost:8080/",
          "height": 69
        },
        "outputId": "c69a73de-ffcb-4777-e521-3ee94f37682b"
      },
      "source": [
        "usd = { k:v/75 for k,v in inr.items()}\n",
        "usd"
      ],
      "execution_count": null,
      "outputs": [
        {
          "output_type": "execute_result",
          "data": {
            "text/plain": [
              "{'bread': 0.4666666666666667,\n",
              " 'butter': 0.6666666666666666,\n",
              " 'milk': 0.3333333333333333}"
            ]
          },
          "metadata": {
            "tags": []
          },
          "execution_count": 25
        }
      ]
    },
    {
      "cell_type": "code",
      "metadata": {
        "id": "UnUJjB-ZsqwL",
        "colab_type": "code",
        "colab": {}
      },
      "source": [
        "celcius = {'delhi':45, 'rishikesh': 30, 'shimla': 24, 'jammu': 15}"
      ],
      "execution_count": null,
      "outputs": []
    },
    {
      "cell_type": "markdown",
      "metadata": {
        "id": "bWfFUJn7tglw",
        "colab_type": "text"
      },
      "source": [
        "convert celcius to fahrenheit using dictionary comprehension"
      ]
    },
    {
      "cell_type": "markdown",
      "metadata": {
        "id": "6P6g_huvtz9B",
        "colab_type": "text"
      },
      "source": [
        "# if elif else"
      ]
    },
    {
      "cell_type": "code",
      "metadata": {
        "id": "Xb_bcDdito6E",
        "colab_type": "code",
        "colab": {}
      },
      "source": [
        "if condition:\n",
        "  print('something')\n",
        "elif another_condition:\n",
        "  print('something else')\n",
        "elif yet_another_condition:\n",
        "  print('something else altogether')\n",
        "else:\n",
        "  print('i dont want to print anything')"
      ],
      "execution_count": null,
      "outputs": []
    },
    {
      "cell_type": "code",
      "metadata": {
        "id": "k7b8ZMS6uX3W",
        "colab_type": "code",
        "colab": {
          "base_uri": "https://localhost:8080/",
          "height": 51
        },
        "outputId": "46bd2e3e-e3a9-4ca0-d99c-039a0e775ea0"
      },
      "source": [
        "my_var = input('Please enter your name:')\n",
        "\n",
        "if my_var == 'Arpita':\n",
        "  print('Hey super boss!!')\n",
        "elif my_var == 'Vinay':\n",
        "  print('Hey Boss!')\n",
        "elif my_var == 'Munendra':\n",
        "  print('Hello chief')\n",
        "else:\n",
        "  print('Sorry, I could not find your name in organization')"
      ],
      "execution_count": null,
      "outputs": [
        {
          "output_type": "stream",
          "text": [
            "Please enter your name:Gangwar\n",
            "Sorry, I could not find your name in organization\n"
          ],
          "name": "stdout"
        }
      ]
    },
    {
      "cell_type": "markdown",
      "metadata": {
        "id": "bEbfqkekv6yD",
        "colab_type": "text"
      },
      "source": [
        "# For Loop"
      ]
    },
    {
      "cell_type": "code",
      "metadata": {
        "id": "IMnqXzluuz7W",
        "colab_type": "code",
        "colab": {
          "base_uri": "https://localhost:8080/",
          "height": 34
        },
        "outputId": "6199f090-5a41-47d4-e32b-99dec8b13ab8"
      },
      "source": [
        "list1"
      ],
      "execution_count": null,
      "outputs": [
        {
          "output_type": "execute_result",
          "data": {
            "text/plain": [
              "[0, 1, 2, 3, 4, 5, 6, 7, 8, 9, 10]"
            ]
          },
          "metadata": {
            "tags": []
          },
          "execution_count": 31
        }
      ]
    },
    {
      "cell_type": "code",
      "metadata": {
        "id": "GAev8hOHwGpr",
        "colab_type": "code",
        "colab": {
          "base_uri": "https://localhost:8080/",
          "height": 207
        },
        "outputId": "62765fda-02bf-4c2a-d1d0-0532bb31c0a3"
      },
      "source": [
        "for num in list1:\n",
        "  if num%2==0:\n",
        "    print(f\"{num} is an even number\")\n",
        "  else:\n",
        "    print(f\"{num} is an odd number\")"
      ],
      "execution_count": null,
      "outputs": [
        {
          "output_type": "stream",
          "text": [
            "0 is an even number\n",
            "1 is an odd number\n",
            "2 is an even number\n",
            "3 is an odd number\n",
            "4 is an even number\n",
            "5 is an odd number\n",
            "6 is an even number\n",
            "7 is an odd number\n",
            "8 is an even number\n",
            "9 is an odd number\n",
            "10 is an even number\n"
          ],
          "name": "stdout"
        }
      ]
    },
    {
      "cell_type": "code",
      "metadata": {
        "id": "nD5P9RsWwp2t",
        "colab_type": "code",
        "colab": {
          "base_uri": "https://localhost:8080/",
          "height": 34
        },
        "outputId": "c24d9c53-2a90-40e6-e0b6-e404cb1db4a0"
      },
      "source": [
        "even = []\n",
        "odd = []\n",
        "for num in list1:\n",
        "  if num%2==0:\n",
        "    even.append(num)\n",
        "  else:\n",
        "    odd.append(num)\n",
        "\n",
        "even\n",
        "odd\n",
        "#  else:\n",
        "#    print(f\"{num} is an odd number\")"
      ],
      "execution_count": null,
      "outputs": [
        {
          "output_type": "execute_result",
          "data": {
            "text/plain": [
              "[1, 3, 5, 7, 9]"
            ]
          },
          "metadata": {
            "tags": []
          },
          "execution_count": 35
        }
      ]
    },
    {
      "cell_type": "code",
      "metadata": {
        "id": "39sQ8WMAxa5A",
        "colab_type": "code",
        "colab": {
          "base_uri": "https://localhost:8080/",
          "height": 34
        },
        "outputId": "42089773-8857-4c10-d177-1f4546f4b3f2"
      },
      "source": [
        "sum = 0\n",
        "for num in list1:\n",
        "  sum = sum+num\n",
        "\n",
        "sum"
      ],
      "execution_count": null,
      "outputs": [
        {
          "output_type": "execute_result",
          "data": {
            "text/plain": [
              "55"
            ]
          },
          "metadata": {
            "tags": []
          },
          "execution_count": 36
        }
      ]
    },
    {
      "cell_type": "code",
      "metadata": {
        "id": "XSWdYet0yW7A",
        "colab_type": "code",
        "colab": {
          "base_uri": "https://localhost:8080/",
          "height": 34
        },
        "outputId": "c781704f-901f-4798-e866-ad620f7fbda8"
      },
      "source": [
        "sum = 0\n",
        "for num in list1:\n",
        "  sum += num\n",
        "\n",
        "sum"
      ],
      "execution_count": null,
      "outputs": [
        {
          "output_type": "execute_result",
          "data": {
            "text/plain": [
              "55"
            ]
          },
          "metadata": {
            "tags": []
          },
          "execution_count": 38
        }
      ]
    },
    {
      "cell_type": "code",
      "metadata": {
        "id": "z1bhuR3Ryh6p",
        "colab_type": "code",
        "colab": {
          "base_uri": "https://localhost:8080/",
          "height": 225
        },
        "outputId": "c9083e36-6b6c-436e-a925-772ef6eb8dde"
      },
      "source": [
        "for num in list1:\n",
        "  if num%2==0:\n",
        "    print(f\"{num} is an even number\")\n",
        "  else:\n",
        "    print(f\"{num} is an odd number\")\n",
        "else:\n",
        "  print('Yayyy, we are done!')"
      ],
      "execution_count": null,
      "outputs": [
        {
          "output_type": "stream",
          "text": [
            "0 is an even number\n",
            "1 is an odd number\n",
            "2 is an even number\n",
            "3 is an odd number\n",
            "4 is an even number\n",
            "5 is an odd number\n",
            "6 is an even number\n",
            "7 is an odd number\n",
            "8 is an even number\n",
            "9 is an odd number\n",
            "10 is an even number\n",
            "Yayyy, we are done!\n"
          ],
          "name": "stdout"
        }
      ]
    },
    {
      "cell_type": "code",
      "metadata": {
        "id": "42vCdYtIzlz4",
        "colab_type": "code",
        "colab": {}
      },
      "source": [
        "list1.extend(['Hello', 11,12,13,14,15])"
      ],
      "execution_count": null,
      "outputs": []
    },
    {
      "cell_type": "code",
      "metadata": {
        "id": "Lk44WCWUzuwR",
        "colab_type": "code",
        "colab": {
          "base_uri": "https://localhost:8080/",
          "height": 34
        },
        "outputId": "da393a93-ad52-4df7-e996-06d8ad7953a7"
      },
      "source": [
        "list1"
      ],
      "execution_count": null,
      "outputs": [
        {
          "output_type": "execute_result",
          "data": {
            "text/plain": [
              "[0, 1, 2, 3, 4, 5, 6, 7, 8, 9, 10, 'Hello', 11, 12, 13, 14, 15]"
            ]
          },
          "metadata": {
            "tags": []
          },
          "execution_count": 41
        }
      ]
    },
    {
      "cell_type": "code",
      "metadata": {
        "id": "Ep8Dtf1eyzyP",
        "colab_type": "code",
        "colab": {
          "base_uri": "https://localhost:8080/",
          "height": 311
        },
        "outputId": "5604694e-84fd-49d2-c486-b319e79d5ffc"
      },
      "source": [
        "for num in list1:\n",
        "  if type(num)==int:\n",
        "    if num%2==0:\n",
        "      print(f\"{num} is an even number\")\n",
        "    else:\n",
        "      print(f\"{num} is an odd number\")\n",
        "  else:\n",
        "    # print(f\"{num} is not a number\")\n",
        "    # break\n",
        "    continue\n",
        "    print('I am after continue')\n",
        "else:\n",
        "  print('Yayyy, we are done!')"
      ],
      "execution_count": null,
      "outputs": [
        {
          "output_type": "stream",
          "text": [
            "0 is an even number\n",
            "1 is an odd number\n",
            "2 is an even number\n",
            "3 is an odd number\n",
            "4 is an even number\n",
            "5 is an odd number\n",
            "6 is an even number\n",
            "7 is an odd number\n",
            "8 is an even number\n",
            "9 is an odd number\n",
            "10 is an even number\n",
            "11 is an odd number\n",
            "12 is an even number\n",
            "13 is an odd number\n",
            "14 is an even number\n",
            "15 is an odd number\n",
            "Yayyy, we are done!\n"
          ],
          "name": "stdout"
        }
      ]
    },
    {
      "cell_type": "markdown",
      "metadata": {
        "id": "ViovLiKT1bUb",
        "colab_type": "text"
      },
      "source": [
        "#While Loop"
      ]
    },
    {
      "cell_type": "code",
      "metadata": {
        "id": "_LE-h9CTyz1t",
        "colab_type": "code",
        "colab": {
          "base_uri": "https://localhost:8080/",
          "height": 207
        },
        "outputId": "b10d251a-c80c-4f5c-dd25-e4c1ab9a8ac3"
      },
      "source": [
        "x = 0\n",
        "\n",
        "while x <= 10:\n",
        "  print(f\"Value of x is {x}\")\n",
        "  x += 1"
      ],
      "execution_count": null,
      "outputs": [
        {
          "output_type": "stream",
          "text": [
            "Value of x is 0\n",
            "Value of x is 1\n",
            "Value of x is 2\n",
            "Value of x is 3\n",
            "Value of x is 4\n",
            "Value of x is 5\n",
            "Value of x is 6\n",
            "Value of x is 7\n",
            "Value of x is 8\n",
            "Value of x is 9\n",
            "Value of x is 10\n"
          ],
          "name": "stdout"
        }
      ]
    },
    {
      "cell_type": "code",
      "metadata": {
        "id": "m8YeTPnfyz7q",
        "colab_type": "code",
        "colab": {
          "base_uri": "https://localhost:8080/",
          "height": 225
        },
        "outputId": "e60963a7-1ff9-4dd2-eeb7-9609d96ad1f9"
      },
      "source": [
        "x = 0\n",
        "\n",
        "while x <= 10:\n",
        "  print(f\"Value of x is {x}\")\n",
        "  x += 1\n",
        "else:\n",
        "  print(\"Yayyy, our while loop is also done\")"
      ],
      "execution_count": null,
      "outputs": [
        {
          "output_type": "stream",
          "text": [
            "Value of x is 0\n",
            "Value of x is 1\n",
            "Value of x is 2\n",
            "Value of x is 3\n",
            "Value of x is 4\n",
            "Value of x is 5\n",
            "Value of x is 6\n",
            "Value of x is 7\n",
            "Value of x is 8\n",
            "Value of x is 9\n",
            "Value of x is 10\n",
            "Yayyy, our while loop is also done\n"
          ],
          "name": "stdout"
        }
      ]
    },
    {
      "cell_type": "code",
      "metadata": {
        "id": "-b3uWlPLyz-v",
        "colab_type": "code",
        "colab": {
          "base_uri": "https://localhost:8080/",
          "height": 121
        },
        "outputId": "e5547706-c088-405a-e6ff-2cdbcd6c3ca2"
      },
      "source": [
        "x = 0\n",
        "\n",
        "while x <= 10:\n",
        "  print(f\"Value of x is {x}\")\n",
        "  if x==5:\n",
        "    break\n",
        "  x += 1\n",
        "else:\n",
        "  print(\"Yayyy, our while loop is also done\")"
      ],
      "execution_count": null,
      "outputs": [
        {
          "output_type": "stream",
          "text": [
            "Value of x is 0\n",
            "Value of x is 1\n",
            "Value of x is 2\n",
            "Value of x is 3\n",
            "Value of x is 4\n",
            "Value of x is 5\n"
          ],
          "name": "stdout"
        }
      ]
    },
    {
      "cell_type": "code",
      "metadata": {
        "id": "5dkmDYtUy0CG",
        "colab_type": "code",
        "colab": {
          "base_uri": "https://localhost:8080/",
          "height": 207
        },
        "outputId": "e8a22bd5-054e-44b0-aab6-e5893c80c796"
      },
      "source": [
        "x = 0\n",
        "\n",
        "while x <= 10:\n",
        "  if x==5:\n",
        "    x +=1\n",
        "    continue\n",
        "  print(f\"Value of x is {x}\")\n",
        "  x += 1\n",
        "else:\n",
        "  print(\"Yayyy, our while loop is also done\")"
      ],
      "execution_count": null,
      "outputs": [
        {
          "output_type": "stream",
          "text": [
            "Value of x is 0\n",
            "Value of x is 1\n",
            "Value of x is 2\n",
            "Value of x is 3\n",
            "Value of x is 4\n",
            "Value of x is 6\n",
            "Value of x is 7\n",
            "Value of x is 8\n",
            "Value of x is 9\n",
            "Value of x is 10\n",
            "Yayyy, our while loop is also done\n"
          ],
          "name": "stdout"
        }
      ]
    },
    {
      "cell_type": "markdown",
      "metadata": {
        "id": "SLMlQ2ky3U5s",
        "colab_type": "text"
      },
      "source": [
        "# heading1\n",
        "## heading2\n",
        "### heading3\n",
        "#### heading4\n",
        "\n",
        "Paragrah text: Blah blah blah\n",
        "\n",
        "- I am a bullet point\n",
        "- I am also a bullet point\n",
        "- great, me too!\n",
        "\n",
        "I am second paragraph\n",
        "\n",
        "- I am part of second list of bullet points\n",
        "- same here\n",
        "\n",
        "I am third paragraph\n",
        "\n",
        "1. I am numbered list\n",
        "2. Ditto\n"
      ]
    },
    {
      "cell_type": "markdown",
      "metadata": {
        "id": "gGl6noDm4n4v",
        "colab_type": "text"
      },
      "source": [
        "# Functions"
      ]
    },
    {
      "cell_type": "code",
      "metadata": {
        "id": "3zUwkrESy0FT",
        "colab_type": "code",
        "colab": {}
      },
      "source": [
        "def name_of_function(param1,param2):\n",
        "  #I am the function logic"
      ],
      "execution_count": null,
      "outputs": []
    },
    {
      "cell_type": "code",
      "metadata": {
        "id": "DRMMj6HEy0JP",
        "colab_type": "code",
        "colab": {}
      },
      "source": [
        "def name_of_function(param1,param2):\n",
        "  #I am the function logic\n",
        "  return return_value"
      ],
      "execution_count": null,
      "outputs": []
    },
    {
      "cell_type": "code",
      "metadata": {
        "id": "UlE8ljDWy0Od",
        "colab_type": "code",
        "colab": {}
      },
      "source": [
        "def name_of_function(param1,param2):\n",
        "  '''\n",
        "  I am a docstring. I contain the details about function, it's parameters and return types.\n",
        "  '''\n",
        "  #I am the function logic\n",
        "  return return_value"
      ],
      "execution_count": null,
      "outputs": []
    },
    {
      "cell_type": "code",
      "metadata": {
        "id": "gQ4On1XS54I7",
        "colab_type": "code",
        "colab": {}
      },
      "source": [
        "def greeting(name):\n",
        "  \"\"\"\n",
        "  I take a string variable as input parameter and greet that person.\n",
        "  \"\"\"\n",
        "  print(f\"Hello {name}\")"
      ],
      "execution_count": null,
      "outputs": []
    },
    {
      "cell_type": "code",
      "metadata": {
        "id": "0CSLftIm6XE7",
        "colab_type": "code",
        "colab": {
          "base_uri": "https://localhost:8080/",
          "height": 34
        },
        "outputId": "78bf29e2-4d2e-431e-ed25-5b9881396573"
      },
      "source": [
        "greeting('Vinay')"
      ],
      "execution_count": null,
      "outputs": [
        {
          "output_type": "stream",
          "text": [
            "Hello Vinay\n"
          ],
          "name": "stdout"
        }
      ]
    },
    {
      "cell_type": "code",
      "metadata": {
        "id": "qztkXfeY6aZg",
        "colab_type": "code",
        "colab": {
          "base_uri": "https://localhost:8080/",
          "height": 34
        },
        "outputId": "cd0979d7-6bb6-43c4-b0f9-c1da989396b8"
      },
      "source": [
        "greeting('Arpita')"
      ],
      "execution_count": null,
      "outputs": [
        {
          "output_type": "stream",
          "text": [
            "Hello Arpita\n"
          ],
          "name": "stdout"
        }
      ]
    },
    {
      "cell_type": "code",
      "metadata": {
        "id": "V0WZXC9a6d7P",
        "colab_type": "code",
        "colab": {
          "base_uri": "https://localhost:8080/",
          "height": 35
        },
        "outputId": "7490add8-5310-4220-ae5c-7d1dfa9c7d0d"
      },
      "source": [
        "greeting.__doc__"
      ],
      "execution_count": null,
      "outputs": [
        {
          "output_type": "execute_result",
          "data": {
            "application/vnd.google.colaboratory.intrinsic": {
              "type": "string"
            },
            "text/plain": [
              "'\\n  I take a string variable as input parameter and greet that person.\\n  '"
            ]
          },
          "metadata": {
            "tags": []
          },
          "execution_count": 55
        }
      ]
    },
    {
      "cell_type": "code",
      "metadata": {
        "id": "dbC-1Y4D6qEA",
        "colab_type": "code",
        "colab": {
          "base_uri": "https://localhost:8080/",
          "height": 104
        },
        "outputId": "9ca8cd32-26da-4ee7-8633-e02598701a8b"
      },
      "source": [
        "sum.__doc__"
      ],
      "execution_count": null,
      "outputs": [
        {
          "output_type": "execute_result",
          "data": {
            "application/vnd.google.colaboratory.intrinsic": {
              "type": "string"
            },
            "text/plain": [
              "\"int(x=0) -> integer\\nint(x, base=10) -> integer\\n\\nConvert a number or string to an integer, or return 0 if no arguments\\nare given.  If x is a number, return x.__int__().  For floating point\\nnumbers, this truncates towards zero.\\n\\nIf x is not a number or if base is given, then x must be a string,\\nbytes, or bytearray instance representing an integer literal in the\\ngiven base.  The literal can be preceded by '+' or '-' and be surrounded\\nby whitespace.  The base defaults to 10.  Valid bases are 0 and 2-36.\\nBase 0 means to interpret the base from the string as an integer literal.\\n>>> int('0b100', base=0)\\n4\""
            ]
          },
          "metadata": {
            "tags": []
          },
          "execution_count": 56
        }
      ]
    },
    {
      "cell_type": "code",
      "metadata": {
        "id": "mib1j7Di62r3",
        "colab_type": "code",
        "colab": {
          "base_uri": "https://localhost:8080/",
          "height": 623
        },
        "outputId": "c9fd1a8c-8ef3-4997-edbc-825936ec82b0"
      },
      "source": [
        "dir(greeting)"
      ],
      "execution_count": null,
      "outputs": [
        {
          "output_type": "execute_result",
          "data": {
            "text/plain": [
              "['__annotations__',\n",
              " '__call__',\n",
              " '__class__',\n",
              " '__closure__',\n",
              " '__code__',\n",
              " '__defaults__',\n",
              " '__delattr__',\n",
              " '__dict__',\n",
              " '__dir__',\n",
              " '__doc__',\n",
              " '__eq__',\n",
              " '__format__',\n",
              " '__ge__',\n",
              " '__get__',\n",
              " '__getattribute__',\n",
              " '__globals__',\n",
              " '__gt__',\n",
              " '__hash__',\n",
              " '__init__',\n",
              " '__init_subclass__',\n",
              " '__kwdefaults__',\n",
              " '__le__',\n",
              " '__lt__',\n",
              " '__module__',\n",
              " '__name__',\n",
              " '__ne__',\n",
              " '__new__',\n",
              " '__qualname__',\n",
              " '__reduce__',\n",
              " '__reduce_ex__',\n",
              " '__repr__',\n",
              " '__setattr__',\n",
              " '__sizeof__',\n",
              " '__str__',\n",
              " '__subclasshook__']"
            ]
          },
          "metadata": {
            "tags": []
          },
          "execution_count": 57
        }
      ]
    },
    {
      "cell_type": "code",
      "metadata": {
        "id": "8WuIjXZ96-Gj",
        "colab_type": "code",
        "colab": {}
      },
      "source": [
        "def addition(num1,num2):\n",
        "  total = num1+num2\n",
        "  return total"
      ],
      "execution_count": null,
      "outputs": []
    },
    {
      "cell_type": "code",
      "metadata": {
        "id": "v5OWBgjY7h5T",
        "colab_type": "code",
        "colab": {
          "base_uri": "https://localhost:8080/",
          "height": 34
        },
        "outputId": "8bad5503-ed03-46e5-b4ee-38c7066488c8"
      },
      "source": [
        "addition(100,400)"
      ],
      "execution_count": null,
      "outputs": [
        {
          "output_type": "execute_result",
          "data": {
            "text/plain": [
              "500"
            ]
          },
          "metadata": {
            "tags": []
          },
          "execution_count": 59
        }
      ]
    },
    {
      "cell_type": "code",
      "metadata": {
        "id": "Yna_vU357ksH",
        "colab_type": "code",
        "colab": {}
      },
      "source": [
        "addition.__doc__"
      ],
      "execution_count": null,
      "outputs": []
    },
    {
      "cell_type": "code",
      "metadata": {
        "id": "UPkgkMfx7wOT",
        "colab_type": "code",
        "colab": {}
      },
      "source": [
        "def addition(num1,num2):\n",
        "  return num1+num2"
      ],
      "execution_count": null,
      "outputs": []
    },
    {
      "cell_type": "code",
      "metadata": {
        "id": "1t3Ipuig7_ey",
        "colab_type": "code",
        "colab": {
          "base_uri": "https://localhost:8080/",
          "height": 34
        },
        "outputId": "10f76f7f-9692-43a8-a01d-4dcbe719a95b"
      },
      "source": [
        "addition(5,15)"
      ],
      "execution_count": null,
      "outputs": [
        {
          "output_type": "execute_result",
          "data": {
            "text/plain": [
              "20"
            ]
          },
          "metadata": {
            "tags": []
          },
          "execution_count": 63
        }
      ]
    },
    {
      "cell_type": "code",
      "metadata": {
        "id": "P4C3PLuo8Da2",
        "colab_type": "code",
        "colab": {}
      },
      "source": [
        "def sq_and_cube(num):\n",
        "  if num%2==0:\n",
        "    return num*num\n",
        "  else:\n",
        "    return num**3\n"
      ],
      "execution_count": null,
      "outputs": []
    },
    {
      "cell_type": "code",
      "metadata": {
        "id": "K5KMhQZd86Or",
        "colab_type": "code",
        "colab": {
          "base_uri": "https://localhost:8080/",
          "height": 34
        },
        "outputId": "05ab4d2a-54c4-4a1c-dcd4-5b36f002eb76"
      },
      "source": [
        "sq_and_cube(10)"
      ],
      "execution_count": null,
      "outputs": [
        {
          "output_type": "execute_result",
          "data": {
            "text/plain": [
              "100"
            ]
          },
          "metadata": {
            "tags": []
          },
          "execution_count": 65
        }
      ]
    },
    {
      "cell_type": "code",
      "metadata": {
        "id": "R2EOU_MF88MD",
        "colab_type": "code",
        "colab": {
          "base_uri": "https://localhost:8080/",
          "height": 34
        },
        "outputId": "e1f5d364-c59f-4bc7-b542-8e4ea6129ccd"
      },
      "source": [
        "sq_and_cube(5)"
      ],
      "execution_count": null,
      "outputs": [
        {
          "output_type": "execute_result",
          "data": {
            "text/plain": [
              "125"
            ]
          },
          "metadata": {
            "tags": []
          },
          "execution_count": 66
        }
      ]
    },
    {
      "cell_type": "code",
      "metadata": {
        "id": "3WVZKyTh8-Rn",
        "colab_type": "code",
        "colab": {}
      },
      "source": [
        "def sq_and_cube(num):\n",
        "  if num%2==0:\n",
        "    return num*num\n",
        "    print('i am after return')\n",
        "  else:\n",
        "    return num**3\n"
      ],
      "execution_count": null,
      "outputs": []
    },
    {
      "cell_type": "code",
      "metadata": {
        "id": "kj3i0yxz9SLS",
        "colab_type": "code",
        "colab": {
          "base_uri": "https://localhost:8080/",
          "height": 34
        },
        "outputId": "3e485e6b-a1af-4bd4-bf73-940e24d5b259"
      },
      "source": [
        "sq_and_cube(10)"
      ],
      "execution_count": null,
      "outputs": [
        {
          "output_type": "execute_result",
          "data": {
            "text/plain": [
              "100"
            ]
          },
          "metadata": {
            "tags": []
          },
          "execution_count": 68
        }
      ]
    },
    {
      "cell_type": "code",
      "metadata": {
        "id": "j2UVkCox9UGr",
        "colab_type": "code",
        "colab": {
          "base_uri": "https://localhost:8080/",
          "height": 34
        },
        "outputId": "501fa6ec-0023-4533-a436-0fc61098fc73"
      },
      "source": [
        "sq_and_cube(5)"
      ],
      "execution_count": null,
      "outputs": [
        {
          "output_type": "execute_result",
          "data": {
            "text/plain": [
              "125"
            ]
          },
          "metadata": {
            "tags": []
          },
          "execution_count": 69
        }
      ]
    },
    {
      "cell_type": "markdown",
      "metadata": {
        "id": "LgVjfJDZ-oJy",
        "colab_type": "text"
      },
      "source": [
        "### Variable Scope"
      ]
    },
    {
      "cell_type": "code",
      "metadata": {
        "id": "9kMj5t2M9gl2",
        "colab_type": "code",
        "colab": {
          "base_uri": "https://localhost:8080/",
          "height": 51
        },
        "outputId": "7b90d80e-1201-47fb-f009-a2996e27a98d"
      },
      "source": [
        "name= 'Vinay'\n",
        "def greet():\n",
        "  name= 'Munendra'\n",
        "  print(f\"Hello {name}, i am inside function definition\")\n",
        "\n",
        "greet()\n",
        "print(f\"Hey {name}, I am outside function definition\")"
      ],
      "execution_count": null,
      "outputs": [
        {
          "output_type": "stream",
          "text": [
            "Hello Munendra, i am inside function definition\n",
            "Hey Vinay, I am outside function definition\n"
          ],
          "name": "stdout"
        }
      ]
    },
    {
      "cell_type": "code",
      "metadata": {
        "id": "jceSl1ib--jR",
        "colab_type": "code",
        "colab": {
          "base_uri": "https://localhost:8080/",
          "height": 34
        },
        "outputId": "569b05b5-54c5-449d-f385-6b935e2e18a9"
      },
      "source": [
        "x = 10\n",
        "def face_value():\n",
        "  global x\n",
        "  print(f\"Hello my value is {x}\")\n",
        "  x +=1\n",
        "\n",
        "face_value()"
      ],
      "execution_count": null,
      "outputs": [
        {
          "output_type": "stream",
          "text": [
            "Hello my value is 10\n"
          ],
          "name": "stdout"
        }
      ]
    },
    {
      "cell_type": "code",
      "metadata": {
        "id": "6d-221pH_TCm",
        "colab_type": "code",
        "colab": {
          "base_uri": "https://localhost:8080/",
          "height": 34
        },
        "outputId": "c6b22663-03ea-4a25-ab72-85fa3ecf17b1"
      },
      "source": [
        "face_value()"
      ],
      "execution_count": null,
      "outputs": [
        {
          "output_type": "stream",
          "text": [
            "Hello my value is 11\n"
          ],
          "name": "stdout"
        }
      ]
    },
    {
      "cell_type": "code",
      "metadata": {
        "id": "EiqstEUlASFN",
        "colab_type": "code",
        "colab": {
          "base_uri": "https://localhost:8080/",
          "height": 51
        },
        "outputId": "87edb043-9320-4f1a-e096-e7915a26257f"
      },
      "source": [
        "x = 10\n",
        "def face_value():\n",
        "  global x\n",
        "  y = x\n",
        "  print(f\"Hello my value is {x}\")\n",
        "  def new_value():\n",
        "    nonlocal y\n",
        "    y+=2\n",
        "    print(f\"My new value is {y}\")\n",
        "  new_value()\n",
        "\n",
        "face_value()"
      ],
      "execution_count": null,
      "outputs": [
        {
          "output_type": "stream",
          "text": [
            "Hello my value is 10\n",
            "My new value is 12\n"
          ],
          "name": "stdout"
        }
      ]
    },
    {
      "cell_type": "markdown",
      "metadata": {
        "id": "Y2Ypc0rc58Bw",
        "colab_type": "text"
      },
      "source": [
        "# Parameter unpacking"
      ]
    },
    {
      "cell_type": "code",
      "metadata": {
        "id": "-omGLmiZ566u",
        "colab_type": "code",
        "colab": {
          "base_uri": "https://localhost:8080/",
          "height": 34
        },
        "outputId": "22fa9e07-d789-4e11-8e2f-8aac2072bc9b"
      },
      "source": [
        "def add_num(x,y,z):\n",
        "  return x+y+z\n",
        "\n",
        "add_num(5,6,7.5)"
      ],
      "execution_count": null,
      "outputs": [
        {
          "output_type": "execute_result",
          "data": {
            "text/plain": [
              "18.5"
            ]
          },
          "metadata": {
            "tags": []
          },
          "execution_count": 2
        }
      ]
    },
    {
      "cell_type": "code",
      "metadata": {
        "id": "JxdrVZbe6h0s",
        "colab_type": "code",
        "colab": {
          "base_uri": "https://localhost:8080/",
          "height": 34
        },
        "outputId": "81b41c43-55d6-4175-e64f-809f1f29201e"
      },
      "source": [
        "def add_num(*args):\n",
        "  sum = 0\n",
        "  for item in args:\n",
        "    sum +=item\n",
        "  \n",
        "  return sum\n",
        "\n",
        "add_num(5,6,7.5,6,4,8,9,45,65,78,4579.456852)"
      ],
      "execution_count": null,
      "outputs": [
        {
          "output_type": "execute_result",
          "data": {
            "text/plain": [
              "4812.956852"
            ]
          },
          "metadata": {
            "tags": []
          },
          "execution_count": 4
        }
      ]
    },
    {
      "cell_type": "code",
      "metadata": {
        "id": "NVxWf0RB7cxr",
        "colab_type": "code",
        "colab": {
          "base_uri": "https://localhost:8080/",
          "height": 34
        },
        "outputId": "4178b6c7-0c8e-4808-ff17-106207f3933e"
      },
      "source": [
        "def total_sales(**kwargs):\n",
        "  sum = 0\n",
        "  for k,v in kwargs.items():\n",
        "    sum +=v\n",
        "  \n",
        "  return sum\n",
        "\n",
        "# sold_units = {}\n",
        "total_sales(Munendra= 50, arpita=100 , vinay=101, diksha=151)"
      ],
      "execution_count": null,
      "outputs": [
        {
          "output_type": "execute_result",
          "data": {
            "text/plain": [
              "402"
            ]
          },
          "metadata": {
            "tags": []
          },
          "execution_count": 10
        }
      ]
    },
    {
      "cell_type": "code",
      "metadata": {
        "id": "Yrmo8u6j9Z_I",
        "colab_type": "code",
        "colab": {}
      },
      "source": [
        "# Order of parameters\n",
        "\n",
        "def func_def(x, y, z, default_value_param = 0, *args, **kwargs)"
      ],
      "execution_count": null,
      "outputs": []
    },
    {
      "cell_type": "markdown",
      "metadata": {
        "id": "lje38xoqypaa",
        "colab_type": "text"
      },
      "source": [
        "# Modules and Packages"
      ]
    },
    {
      "cell_type": "code",
      "metadata": {
        "id": "CswpKIVtyuEW",
        "colab_type": "code",
        "colab": {
          "base_uri": "https://localhost:8080/",
          "height": 34
        },
        "outputId": "3c881c2b-1472-4e81-8505-19c2bdfd883a"
      },
      "source": [
        "import numpy as np\n",
        "\n",
        "np.sqrt(25)"
      ],
      "execution_count": null,
      "outputs": [
        {
          "output_type": "execute_result",
          "data": {
            "text/plain": [
              "5.0"
            ]
          },
          "metadata": {
            "tags": []
          },
          "execution_count": 3
        }
      ]
    },
    {
      "cell_type": "code",
      "metadata": {
        "id": "ZwhqU0I4zFrR",
        "colab_type": "code",
        "colab": {
          "base_uri": "https://localhost:8080/",
          "height": 200
        },
        "outputId": "cad9b9ad-4509-43a2-a029-d6728d110c1c"
      },
      "source": [
        "import numpy as np\n",
        "\n",
        "sqrt(25)"
      ],
      "execution_count": null,
      "outputs": [
        {
          "output_type": "error",
          "ename": "NameError",
          "evalue": "ignored",
          "traceback": [
            "\u001b[0;31m---------------------------------------------------------------------------\u001b[0m",
            "\u001b[0;31mNameError\u001b[0m                                 Traceback (most recent call last)",
            "\u001b[0;32m<ipython-input-4-0de000252293>\u001b[0m in \u001b[0;36m<module>\u001b[0;34m()\u001b[0m\n\u001b[1;32m      1\u001b[0m \u001b[0;32mimport\u001b[0m \u001b[0mnumpy\u001b[0m \u001b[0;32mas\u001b[0m \u001b[0mnp\u001b[0m\u001b[0;34m\u001b[0m\u001b[0;34m\u001b[0m\u001b[0m\n\u001b[1;32m      2\u001b[0m \u001b[0;34m\u001b[0m\u001b[0m\n\u001b[0;32m----> 3\u001b[0;31m \u001b[0msqrt\u001b[0m\u001b[0;34m(\u001b[0m\u001b[0;36m25\u001b[0m\u001b[0;34m)\u001b[0m\u001b[0;34m\u001b[0m\u001b[0;34m\u001b[0m\u001b[0m\n\u001b[0m",
            "\u001b[0;31mNameError\u001b[0m: name 'sqrt' is not defined"
          ]
        }
      ]
    },
    {
      "cell_type": "code",
      "metadata": {
        "id": "X80MpIRazqR1",
        "colab_type": "code",
        "colab": {
          "base_uri": "https://localhost:8080/",
          "height": 34
        },
        "outputId": "e6abedc3-b3c3-46d9-ac9e-06179e0d3416"
      },
      "source": [
        "from numpy import sqrt\n",
        "\n",
        "sqrt(25)"
      ],
      "execution_count": null,
      "outputs": [
        {
          "output_type": "execute_result",
          "data": {
            "text/plain": [
              "5.0"
            ]
          },
          "metadata": {
            "tags": []
          },
          "execution_count": 5
        }
      ]
    },
    {
      "cell_type": "code",
      "metadata": {
        "id": "BDj9Hs_uz4NF",
        "colab_type": "code",
        "colab": {}
      },
      "source": [
        "from <pkgname> import <module>\n",
        "import <pkgname>.<module>\n",
        "from <pkgname>.<module> import object"
      ],
      "execution_count": null,
      "outputs": []
    },
    {
      "cell_type": "code",
      "metadata": {
        "id": "-uAcaml80SYO",
        "colab_type": "code",
        "colab": {}
      },
      "source": [
        "import matplotlib.pyplot as plt"
      ],
      "execution_count": null,
      "outputs": []
    },
    {
      "cell_type": "markdown",
      "metadata": {
        "id": "eWiTmtTt0qL1",
        "colab_type": "text"
      },
      "source": [
        "To import a module from a package, the package must contain ___init_ _ .py file."
      ]
    },
    {
      "cell_type": "markdown",
      "metadata": {
        "id": "ZWizOJpN1W1-",
        "colab_type": "text"
      },
      "source": [
        "# Object Oriented Programming"
      ]
    },
    {
      "cell_type": "code",
      "metadata": {
        "id": "GttKxW_x0_0P",
        "colab_type": "code",
        "colab": {}
      },
      "source": [
        "class Kvch(object):\n",
        "  pass"
      ],
      "execution_count": null,
      "outputs": []
    },
    {
      "cell_type": "code",
      "metadata": {
        "id": "1VlI1CX-2bPQ",
        "colab_type": "code",
        "colab": {}
      },
      "source": [
        "a = Kvch()"
      ],
      "execution_count": null,
      "outputs": []
    },
    {
      "cell_type": "code",
      "metadata": {
        "id": "WYf3tEo-2KhS",
        "colab_type": "code",
        "colab": {
          "base_uri": "https://localhost:8080/",
          "height": 34
        },
        "outputId": "b39ade1c-edb2-4a67-ebbd-01c6d915082c"
      },
      "source": [
        "type(a)"
      ],
      "execution_count": null,
      "outputs": [
        {
          "output_type": "execute_result",
          "data": {
            "text/plain": [
              "__main__.kvch"
            ]
          },
          "metadata": {
            "tags": []
          },
          "execution_count": 11
        }
      ]
    },
    {
      "cell_type": "code",
      "metadata": {
        "id": "Y6cz_0a82VGY",
        "colab_type": "code",
        "colab": {}
      },
      "source": [
        "class Kvch(object):\n",
        "\n",
        "  def __init__(abc, city, address):\n",
        "    abc.city = city\n",
        "    abc.address = address\n",
        "\n",
        "  def type_self(abc):\n",
        "    return type(abc)"
      ],
      "execution_count": null,
      "outputs": []
    },
    {
      "cell_type": "code",
      "metadata": {
        "id": "ph70tgQD4g6z",
        "colab_type": "code",
        "colab": {}
      },
      "source": [
        "branch1 = Kvch('Noida', 'Sector 62')"
      ],
      "execution_count": null,
      "outputs": []
    },
    {
      "cell_type": "code",
      "metadata": {
        "id": "SsZTG6Eg4jDc",
        "colab_type": "code",
        "colab": {
          "base_uri": "https://localhost:8080/",
          "height": 34
        },
        "outputId": "f09634f6-813e-4617-c9f9-66d7a10c8a56"
      },
      "source": [
        "branch1.type_self()"
      ],
      "execution_count": null,
      "outputs": [
        {
          "output_type": "execute_result",
          "data": {
            "text/plain": [
              "__main__.Kvch"
            ]
          },
          "metadata": {
            "tags": []
          },
          "execution_count": 25
        }
      ]
    },
    {
      "cell_type": "code",
      "metadata": {
        "id": "nPZAlgNk6Kt0",
        "colab_type": "code",
        "colab": {
          "base_uri": "https://localhost:8080/",
          "height": 35
        },
        "outputId": "b552173d-6e33-4e50-f760-2316b6f052fa"
      },
      "source": [
        "branch1.city"
      ],
      "execution_count": null,
      "outputs": [
        {
          "output_type": "execute_result",
          "data": {
            "application/vnd.google.colaboratory.intrinsic": {
              "type": "string"
            },
            "text/plain": [
              "'Noida'"
            ]
          },
          "metadata": {
            "tags": []
          },
          "execution_count": 26
        }
      ]
    },
    {
      "cell_type": "code",
      "metadata": {
        "id": "9pI7-gEk62Ht",
        "colab_type": "code",
        "colab": {
          "base_uri": "https://localhost:8080/",
          "height": 34
        },
        "outputId": "5e888637-12ac-46ab-f743-9449227ba2dc"
      },
      "source": [
        "branch1.type_self()"
      ],
      "execution_count": null,
      "outputs": [
        {
          "output_type": "execute_result",
          "data": {
            "text/plain": [
              "__main__.Kvch"
            ]
          },
          "metadata": {
            "tags": []
          },
          "execution_count": 28
        }
      ]
    },
    {
      "cell_type": "code",
      "metadata": {
        "id": "KOF0Xf-E64Zb",
        "colab_type": "code",
        "colab": {}
      },
      "source": [
        "class Kvch(object):\n",
        "\n",
        "  def __init__(self, city, address, pincode):\n",
        "    self.city = city\n",
        "    self.address = address\n",
        "    self.pincode = pincode\n",
        "\n",
        "  def complete_address1(self):\n",
        "    print(self.address,  self.city,  '-', self.pincode)\n",
        "  \n",
        "  def complete_address2(self):\n",
        "    print(f\"{self.address} {self.city}-{self.pincode}\")\n",
        "\n",
        "  def complete_address3(self, landmark=None):\n",
        "    print(f\"{self.address} {self.city}-{self.pincode} Near {landmark}\")"
      ],
      "execution_count": null,
      "outputs": []
    },
    {
      "cell_type": "code",
      "metadata": {
        "id": "SWBH51Pg75ev",
        "colab_type": "code",
        "colab": {}
      },
      "source": [
        "branch1 = Kvch('Noida','ABC building, Third Floor, Sector 62', 201304)"
      ],
      "execution_count": null,
      "outputs": []
    },
    {
      "cell_type": "code",
      "metadata": {
        "id": "XHb_twIL8HAD",
        "colab_type": "code",
        "colab": {
          "base_uri": "https://localhost:8080/",
          "height": 34
        },
        "outputId": "85631c38-034d-420d-9e5a-5f057cdae828"
      },
      "source": [
        "branch1.complete_address3()"
      ],
      "execution_count": null,
      "outputs": [
        {
          "output_type": "stream",
          "text": [
            "ABC building, Third Floor, Sector 62 Noida-201304 Near None\n"
          ],
          "name": "stdout"
        }
      ]
    },
    {
      "cell_type": "code",
      "metadata": {
        "id": "uTPGFob080yH",
        "colab_type": "code",
        "colab": {}
      },
      "source": [
        "class Book(object):\n",
        "  def __init__(self, title, author, pages):\n",
        "    self.title = title\n",
        "    self.author = author\n",
        "    self.pages = pages\n",
        "\n",
        "  def __len__(self):\n",
        "    return self.pages"
      ],
      "execution_count": null,
      "outputs": []
    },
    {
      "cell_type": "code",
      "metadata": {
        "id": "XTlm3j18__F9",
        "colab_type": "code",
        "colab": {}
      },
      "source": [
        "book1 = Book('My life story', 'Yours truly', 10)"
      ],
      "execution_count": null,
      "outputs": []
    },
    {
      "cell_type": "code",
      "metadata": {
        "id": "3o_i3K34AB2W",
        "colab_type": "code",
        "colab": {
          "base_uri": "https://localhost:8080/",
          "height": 34
        },
        "outputId": "ffc06670-e81f-438a-9274-c1038cfa96d7"
      },
      "source": [
        "len(book1)"
      ],
      "execution_count": null,
      "outputs": [
        {
          "output_type": "execute_result",
          "data": {
            "text/plain": [
              "10"
            ]
          },
          "metadata": {
            "tags": []
          },
          "execution_count": 59
        }
      ]
    },
    {
      "cell_type": "markdown",
      "metadata": {
        "id": "ltUE9E6e-BF0",
        "colab_type": "text"
      },
      "source": [
        "# File IO with python"
      ]
    },
    {
      "cell_type": "code",
      "metadata": {
        "id": "9iLDkA98BDqH",
        "colab_type": "code",
        "colab": {
          "base_uri": "https://localhost:8080/",
          "height": 243
        },
        "outputId": "7f99530a-e710-4cb5-9c72-b4a60ea81467"
      },
      "source": [
        "path= '/content/tips.csv'\n",
        "\n",
        "f= open(path)\n",
        "f.read()"
      ],
      "execution_count": null,
      "outputs": [
        {
          "output_type": "execute_result",
          "data": {
            "application/vnd.google.colaboratory.intrinsic": {
              "type": "string"
            },
            "text/plain": [
              "'\"total_bill\",\"tip\",\"sex\",\"smoker\",\"day\",\"time\",\"size\"\\n16.99,1.01,\"Female\",\"No\",\"Sun\",\"Dinner\",2\\n10.34,1.66,\"Male\",\"No\",\"Sun\",\"Dinner\",3\\n21.01,3.5,\"Male\",\"No\",\"Sun\",\"Dinner\",3\\n23.68,3.31,\"Male\",\"No\",\"Sun\",\"Dinner\",2\\n24.59,3.61,\"Female\",\"No\",\"Sun\",\"Dinner\",4\\n25.29,4.71,\"Male\",\"No\",\"Sun\",\"Dinner\",4\\n8.77,2,\"Male\",\"No\",\"Sun\",\"Dinner\",2\\n26.88,3.12,\"Male\",\"No\",\"Sun\",\"Dinner\",4\\n15.04,1.96,\"Male\",\"No\",\"Sun\",\"Dinner\",2\\n14.78,3.23,\"Male\",\"No\",\"Sun\",\"Dinner\",2\\n10.27,1.71,\"Male\",\"No\",\"Sun\",\"Dinner\",2\\n35.26,5,\"Female\",\"No\",\"Sun\",\"Dinner\",4\\n15.42,1.57,\"Male\",\"No\",\"Sun\",\"Dinner\",2\\n18.43,3,\"Male\",\"No\",\"Sun\",\"Dinner\",4\\n14.83,3.02,\"Female\",\"No\",\"Sun\",\"Dinner\",2\\n21.58,3.92,\"Male\",\"No\",\"Sun\",\"Dinner\",2\\n10.33,1.67,\"Female\",\"No\",\"Sun\",\"Dinner\",3\\n16.29,3.71,\"Male\",\"No\",\"Sun\",\"Dinner\",3\\n16.97,3.5,\"Female\",\"No\",\"Sun\",\"Dinner\",3\\n20.65,3.35,\"Male\",\"No\",\"Sat\",\"Dinner\",3\\n17.92,4.08,\"Male\",\"No\",\"Sat\",\"Dinner\",2\\n20.29,2.75,\"Female\",\"No\",\"Sat\",\"Dinner\",2\\n15.77,2.23,\"Female\",\"No\",\"Sat\",\"Dinner\",2\\n39.42,7.58,\"Male\",\"No\",\"Sat\",\"Dinner\",4\\n19.82,3.18,\"Male\",\"No\",\"Sat\",\"Dinner\",2\\n17.81,2.34,\"Male\",\"No\",\"Sat\",\"Dinner\",4\\n13.37,2,\"Male\",\"No\",\"Sat\",\"Dinner\",2\\n12.69,2,\"Male\",\"No\",\"Sat\",\"Dinner\",2\\n21.7,4.3,\"Male\",\"No\",\"Sat\",\"Dinner\",2\\n19.65,3,\"Female\",\"No\",\"Sat\",\"Dinner\",2\\n9.55,1.45,\"Male\",\"No\",\"Sat\",\"Dinner\",2\\n18.35,2.5,\"Male\",\"No\",\"Sat\",\"Dinner\",4\\n15.06,3,\"Female\",\"No\",\"Sat\",\"Dinner\",2\\n20.69,2.45,\"Female\",\"No\",\"Sat\",\"Dinner\",4\\n17.78,3.27,\"Male\",\"No\",\"Sat\",\"Dinner\",2\\n24.06,3.6,\"Male\",\"No\",\"Sat\",\"Dinner\",3\\n16.31,2,\"Male\",\"No\",\"Sat\",\"Dinner\",3\\n16.93,3.07,\"Female\",\"No\",\"Sat\",\"Dinner\",3\\n18.69,2.31,\"Male\",\"No\",\"Sat\",\"Dinner\",3\\n31.27,5,\"Male\",\"No\",\"Sat\",\"Dinner\",3\\n16.04,2.24,\"Male\",\"No\",\"Sat\",\"Dinner\",3\\n17.46,2.54,\"Male\",\"No\",\"Sun\",\"Dinner\",2\\n13.94,3.06,\"Male\",\"No\",\"Sun\",\"Dinner\",2\\n9.68,1.32,\"Male\",\"No\",\"Sun\",\"Dinner\",2\\n30.4,5.6,\"Male\",\"No\",\"Sun\",\"Dinner\",4\\n18.29,3,\"Male\",\"No\",\"Sun\",\"Dinner\",2\\n22.23,5,\"Male\",\"No\",\"Sun\",\"Dinner\",2\\n32.4,6,\"Male\",\"No\",\"Sun\",\"Dinner\",4\\n28.55,2.05,\"Male\",\"No\",\"Sun\",\"Dinner\",3\\n18.04,3,\"Male\",\"No\",\"Sun\",\"Dinner\",2\\n12.54,2.5,\"Male\",\"No\",\"Sun\",\"Dinner\",2\\n10.29,2.6,\"Female\",\"No\",\"Sun\",\"Dinner\",2\\n34.81,5.2,\"Female\",\"No\",\"Sun\",\"Dinner\",4\\n9.94,1.56,\"Male\",\"No\",\"Sun\",\"Dinner\",2\\n25.56,4.34,\"Male\",\"No\",\"Sun\",\"Dinner\",4\\n19.49,3.51,\"Male\",\"No\",\"Sun\",\"Dinner\",2\\n38.01,3,\"Male\",\"Yes\",\"Sat\",\"Dinner\",4\\n26.41,1.5,\"Female\",\"No\",\"Sat\",\"Dinner\",2\\n11.24,1.76,\"Male\",\"Yes\",\"Sat\",\"Dinner\",2\\n48.27,6.73,\"Male\",\"No\",\"Sat\",\"Dinner\",4\\n20.29,3.21,\"Male\",\"Yes\",\"Sat\",\"Dinner\",2\\n13.81,2,\"Male\",\"Yes\",\"Sat\",\"Dinner\",2\\n11.02,1.98,\"Male\",\"Yes\",\"Sat\",\"Dinner\",2\\n18.29,3.76,\"Male\",\"Yes\",\"Sat\",\"Dinner\",4\\n17.59,2.64,\"Male\",\"No\",\"Sat\",\"Dinner\",3\\n20.08,3.15,\"Male\",\"No\",\"Sat\",\"Dinner\",3\\n16.45,2.47,\"Female\",\"No\",\"Sat\",\"Dinner\",2\\n3.07,1,\"Female\",\"Yes\",\"Sat\",\"Dinner\",1\\n20.23,2.01,\"Male\",\"No\",\"Sat\",\"Dinner\",2\\n15.01,2.09,\"Male\",\"Yes\",\"Sat\",\"Dinner\",2\\n12.02,1.97,\"Male\",\"No\",\"Sat\",\"Dinner\",2\\n17.07,3,\"Female\",\"No\",\"Sat\",\"Dinner\",3\\n26.86,3.14,\"Female\",\"Yes\",\"Sat\",\"Dinner\",2\\n25.28,5,\"Female\",\"Yes\",\"Sat\",\"Dinner\",2\\n14.73,2.2,\"Female\",\"No\",\"Sat\",\"Dinner\",2\\n10.51,1.25,\"Male\",\"No\",\"Sat\",\"Dinner\",2\\n17.92,3.08,\"Male\",\"Yes\",\"Sat\",\"Dinner\",2\\n27.2,4,\"Male\",\"No\",\"Thur\",\"Lunch\",4\\n22.76,3,\"Male\",\"No\",\"Thur\",\"Lunch\",2\\n17.29,2.71,\"Male\",\"No\",\"Thur\",\"Lunch\",2\\n19.44,3,\"Male\",\"Yes\",\"Thur\",\"Lunch\",2\\n16.66,3.4,\"Male\",\"No\",\"Thur\",\"Lunch\",2\\n10.07,1.83,\"Female\",\"No\",\"Thur\",\"Lunch\",1\\n32.68,5,\"Male\",\"Yes\",\"Thur\",\"Lunch\",2\\n15.98,2.03,\"Male\",\"No\",\"Thur\",\"Lunch\",2\\n34.83,5.17,\"Female\",\"No\",\"Thur\",\"Lunch\",4\\n13.03,2,\"Male\",\"No\",\"Thur\",\"Lunch\",2\\n18.28,4,\"Male\",\"No\",\"Thur\",\"Lunch\",2\\n24.71,5.85,\"Male\",\"No\",\"Thur\",\"Lunch\",2\\n21.16,3,\"Male\",\"No\",\"Thur\",\"Lunch\",2\\n28.97,3,\"Male\",\"Yes\",\"Fri\",\"Dinner\",2\\n22.49,3.5,\"Male\",\"No\",\"Fri\",\"Dinner\",2\\n5.75,1,\"Female\",\"Yes\",\"Fri\",\"Dinner\",2\\n16.32,4.3,\"Female\",\"Yes\",\"Fri\",\"Dinner\",2\\n22.75,3.25,\"Female\",\"No\",\"Fri\",\"Dinner\",2\\n40.17,4.73,\"Male\",\"Yes\",\"Fri\",\"Dinner\",4\\n27.28,4,\"Male\",\"Yes\",\"Fri\",\"Dinner\",2\\n12.03,1.5,\"Male\",\"Yes\",\"Fri\",\"Dinner\",2\\n21.01,3,\"Male\",\"Yes\",\"Fri\",\"Dinner\",2\\n12.46,1.5,\"Male\",\"No\",\"Fri\",\"Dinner\",2\\n11.35,2.5,\"Female\",\"Yes\",\"Fri\",\"Dinner\",2\\n15.38,3,\"Female\",\"Yes\",\"Fri\",\"Dinner\",2\\n44.3,2.5,\"Female\",\"Yes\",\"Sat\",\"Dinner\",3\\n22.42,3.48,\"Female\",\"Yes\",\"Sat\",\"Dinner\",2\\n20.92,4.08,\"Female\",\"No\",\"Sat\",\"Dinner\",2\\n15.36,1.64,\"Male\",\"Yes\",\"Sat\",\"Dinner\",2\\n20.49,4.06,\"Male\",\"Yes\",\"Sat\",\"Dinner\",2\\n25.21,4.29,\"Male\",\"Yes\",\"Sat\",\"Dinner\",2\\n18.24,3.76,\"Male\",\"No\",\"Sat\",\"Dinner\",2\\n14.31,4,\"Female\",\"Yes\",\"Sat\",\"Dinner\",2\\n14,3,\"Male\",\"No\",\"Sat\",\"Dinner\",2\\n7.25,1,\"Female\",\"No\",\"Sat\",\"Dinner\",1\\n38.07,4,\"Male\",\"No\",\"Sun\",\"Dinner\",3\\n23.95,2.55,\"Male\",\"No\",\"Sun\",\"Dinner\",2\\n25.71,4,\"Female\",\"No\",\"Sun\",\"Dinner\",3\\n17.31,3.5,\"Female\",\"No\",\"Sun\",\"Dinner\",2\\n29.93,5.07,\"Male\",\"No\",\"Sun\",\"Dinner\",4\\n10.65,1.5,\"Female\",\"No\",\"Thur\",\"Lunch\",2\\n12.43,1.8,\"Female\",\"No\",\"Thur\",\"Lunch\",2\\n24.08,2.92,\"Female\",\"No\",\"Thur\",\"Lunch\",4\\n11.69,2.31,\"Male\",\"No\",\"Thur\",\"Lunch\",2\\n13.42,1.68,\"Female\",\"No\",\"Thur\",\"Lunch\",2\\n14.26,2.5,\"Male\",\"No\",\"Thur\",\"Lunch\",2\\n15.95,2,\"Male\",\"No\",\"Thur\",\"Lunch\",2\\n12.48,2.52,\"Female\",\"No\",\"Thur\",\"Lunch\",2\\n29.8,4.2,\"Female\",\"No\",\"Thur\",\"Lunch\",6\\n8.52,1.48,\"Male\",\"No\",\"Thur\",\"Lunch\",2\\n14.52,2,\"Female\",\"No\",\"Thur\",\"Lunch\",2\\n11.38,2,\"Female\",\"No\",\"Thur\",\"Lunch\",2\\n22.82,2.18,\"Male\",\"No\",\"Thur\",\"Lunch\",3\\n19.08,1.5,\"Male\",\"No\",\"Thur\",\"Lunch\",2\\n20.27,2.83,\"Female\",\"No\",\"Thur\",\"Lunch\",2\\n11.17,1.5,\"Female\",\"No\",\"Thur\",\"Lunch\",2\\n12.26,2,\"Female\",\"No\",\"Thur\",\"Lunch\",2\\n18.26,3.25,\"Female\",\"No\",\"Thur\",\"Lunch\",2\\n8.51,1.25,\"Female\",\"No\",\"Thur\",\"Lunch\",2\\n10.33,2,\"Female\",\"No\",\"Thur\",\"Lunch\",2\\n14.15,2,\"Female\",\"No\",\"Thur\",\"Lunch\",2\\n16,2,\"Male\",\"Yes\",\"Thur\",\"Lunch\",2\\n13.16,2.75,\"Female\",\"No\",\"Thur\",\"Lunch\",2\\n17.47,3.5,\"Female\",\"No\",\"Thur\",\"Lunch\",2\\n34.3,6.7,\"Male\",\"No\",\"Thur\",\"Lunch\",6\\n41.19,5,\"Male\",\"No\",\"Thur\",\"Lunch\",5\\n27.05,5,\"Female\",\"No\",\"Thur\",\"Lunch\",6\\n16.43,2.3,\"Female\",\"No\",\"Thur\",\"Lunch\",2\\n8.35,1.5,\"Female\",\"No\",\"Thur\",\"Lunch\",2\\n18.64,1.36,\"Female\",\"No\",\"Thur\",\"Lunch\",3\\n11.87,1.63,\"Female\",\"No\",\"Thur\",\"Lunch\",2\\n9.78,1.73,\"Male\",\"No\",\"Thur\",\"Lunch\",2\\n7.51,2,\"Male\",\"No\",\"Thur\",\"Lunch\",2\\n14.07,2.5,\"Male\",\"No\",\"Sun\",\"Dinner\",2\\n13.13,2,\"Male\",\"No\",\"Sun\",\"Dinner\",2\\n17.26,2.74,\"Male\",\"No\",\"Sun\",\"Dinner\",3\\n24.55,2,\"Male\",\"No\",\"Sun\",\"Dinner\",4\\n19.77,2,\"Male\",\"No\",\"Sun\",\"Dinner\",4\\n29.85,5.14,\"Female\",\"No\",\"Sun\",\"Dinner\",5\\n48.17,5,\"Male\",\"No\",\"Sun\",\"Dinner\",6\\n25,3.75,\"Female\",\"No\",\"Sun\",\"Dinner\",4\\n13.39,2.61,\"Female\",\"No\",\"Sun\",\"Dinner\",2\\n16.49,2,\"Male\",\"No\",\"Sun\",\"Dinner\",4\\n21.5,3.5,\"Male\",\"No\",\"Sun\",\"Dinner\",4\\n12.66,2.5,\"Male\",\"No\",\"Sun\",\"Dinner\",2\\n16.21,2,\"Female\",\"No\",\"Sun\",\"Dinner\",3\\n13.81,2,\"Male\",\"No\",\"Sun\",\"Dinner\",2\\n17.51,3,\"Female\",\"Yes\",\"Sun\",\"Dinner\",2\\n24.52,3.48,\"Male\",\"No\",\"Sun\",\"Dinner\",3\\n20.76,2.24,\"Male\",\"No\",\"Sun\",\"Dinner\",2\\n31.71,4.5,\"Male\",\"No\",\"Sun\",\"Dinner\",4\\n10.59,1.61,\"Female\",\"Yes\",\"Sat\",\"Dinner\",2\\n10.63,2,\"Female\",\"Yes\",\"Sat\",\"Dinner\",2\\n50.81,10,\"Male\",\"Yes\",\"Sat\",\"Dinner\",3\\n15.81,3.16,\"Male\",\"Yes\",\"Sat\",\"Dinner\",2\\n7.25,5.15,\"Male\",\"Yes\",\"Sun\",\"Dinner\",2\\n31.85,3.18,\"Male\",\"Yes\",\"Sun\",\"Dinner\",2\\n16.82,4,\"Male\",\"Yes\",\"Sun\",\"Dinner\",2\\n32.9,3.11,\"Male\",\"Yes\",\"Sun\",\"Dinner\",2\\n17.89,2,\"Male\",\"Yes\",\"Sun\",\"Dinner\",2\\n14.48,2,\"Male\",\"Yes\",\"Sun\",\"Dinner\",2\\n9.6,4,\"Female\",\"Yes\",\"Sun\",\"Dinner\",2\\n34.63,3.55,\"Male\",\"Yes\",\"Sun\",\"Dinner\",2\\n34.65,3.68,\"Male\",\"Yes\",\"Sun\",\"Dinner\",4\\n23.33,5.65,\"Male\",\"Yes\",\"Sun\",\"Dinner\",2\\n45.35,3.5,\"Male\",\"Yes\",\"Sun\",\"Dinner\",3\\n23.17,6.5,\"Male\",\"Yes\",\"Sun\",\"Dinner\",4\\n40.55,3,\"Male\",\"Yes\",\"Sun\",\"Dinner\",2\\n20.69,5,\"Male\",\"No\",\"Sun\",\"Dinner\",5\\n20.9,3.5,\"Female\",\"Yes\",\"Sun\",\"Dinner\",3\\n30.46,2,\"Male\",\"Yes\",\"Sun\",\"Dinner\",5\\n18.15,3.5,\"Female\",\"Yes\",\"Sun\",\"Dinner\",3\\n23.1,4,\"Male\",\"Yes\",\"Sun\",\"Dinner\",3\\n15.69,1.5,\"Male\",\"Yes\",\"Sun\",\"Dinner\",2\\n19.81,4.19,\"Female\",\"Yes\",\"Thur\",\"Lunch\",2\\n28.44,2.56,\"Male\",\"Yes\",\"Thur\",\"Lunch\",2\\n15.48,2.02,\"Male\",\"Yes\",\"Thur\",\"Lunch\",2\\n16.58,4,\"Male\",\"Yes\",\"Thur\",\"Lunch\",2\\n7.56,1.44,\"Male\",\"No\",\"Thur\",\"Lunch\",2\\n10.34,2,\"Male\",\"Yes\",\"Thur\",\"Lunch\",2\\n43.11,5,\"Female\",\"Yes\",\"Thur\",\"Lunch\",4\\n13,2,\"Female\",\"Yes\",\"Thur\",\"Lunch\",2\\n13.51,2,\"Male\",\"Yes\",\"Thur\",\"Lunch\",2\\n18.71,4,\"Male\",\"Yes\",\"Thur\",\"Lunch\",3\\n12.74,2.01,\"Female\",\"Yes\",\"Thur\",\"Lunch\",2\\n13,2,\"Female\",\"Yes\",\"Thur\",\"Lunch\",2\\n16.4,2.5,\"Female\",\"Yes\",\"Thur\",\"Lunch\",2\\n20.53,4,\"Male\",\"Yes\",\"Thur\",\"Lunch\",4\\n16.47,3.23,\"Female\",\"Yes\",\"Thur\",\"Lunch\",3\\n26.59,3.41,\"Male\",\"Yes\",\"Sat\",\"Dinner\",3\\n38.73,3,\"Male\",\"Yes\",\"Sat\",\"Dinner\",4\\n24.27,2.03,\"Male\",\"Yes\",\"Sat\",\"Dinner\",2\\n12.76,2.23,\"Female\",\"Yes\",\"Sat\",\"Dinner\",2\\n30.06,2,\"Male\",\"Yes\",\"Sat\",\"Dinner\",3\\n25.89,5.16,\"Male\",\"Yes\",\"Sat\",\"Dinner\",4\\n48.33,9,\"Male\",\"No\",\"Sat\",\"Dinner\",4\\n13.27,2.5,\"Female\",\"Yes\",\"Sat\",\"Dinner\",2\\n28.17,6.5,\"Female\",\"Yes\",\"Sat\",\"Dinner\",3\\n12.9,1.1,\"Female\",\"Yes\",\"Sat\",\"Dinner\",2\\n28.15,3,\"Male\",\"Yes\",\"Sat\",\"Dinner\",5\\n11.59,1.5,\"Male\",\"Yes\",\"Sat\",\"Dinner\",2\\n7.74,1.44,\"Male\",\"Yes\",\"Sat\",\"Dinner\",2\\n30.14,3.09,\"Female\",\"Yes\",\"Sat\",\"Dinner\",4\\n12.16,2.2,\"Male\",\"Yes\",\"Fri\",\"Lunch\",2\\n13.42,3.48,\"Female\",\"Yes\",\"Fri\",\"Lunch\",2\\n8.58,1.92,\"Male\",\"Yes\",\"Fri\",\"Lunch\",1\\n15.98,3,\"Female\",\"No\",\"Fri\",\"Lunch\",3\\n13.42,1.58,\"Male\",\"Yes\",\"Fri\",\"Lunch\",2\\n16.27,2.5,\"Female\",\"Yes\",\"Fri\",\"Lunch\",2\\n10.09,2,\"Female\",\"Yes\",\"Fri\",\"Lunch\",2\\n20.45,3,\"Male\",\"No\",\"Sat\",\"Dinner\",4\\n13.28,2.72,\"Male\",\"No\",\"Sat\",\"Dinner\",2\\n22.12,2.88,\"Female\",\"Yes\",\"Sat\",\"Dinner\",2\\n24.01,2,\"Male\",\"Yes\",\"Sat\",\"Dinner\",4\\n15.69,3,\"Male\",\"Yes\",\"Sat\",\"Dinner\",3\\n11.61,3.39,\"Male\",\"No\",\"Sat\",\"Dinner\",2\\n10.77,1.47,\"Male\",\"No\",\"Sat\",\"Dinner\",2\\n15.53,3,\"Male\",\"Yes\",\"Sat\",\"Dinner\",2\\n10.07,1.25,\"Male\",\"No\",\"Sat\",\"Dinner\",2\\n12.6,1,\"Male\",\"Yes\",\"Sat\",\"Dinner\",2\\n32.83,1.17,\"Male\",\"Yes\",\"Sat\",\"Dinner\",2\\n35.83,4.67,\"Female\",\"No\",\"Sat\",\"Dinner\",3\\n29.03,5.92,\"Male\",\"No\",\"Sat\",\"Dinner\",3\\n27.18,2,\"Female\",\"Yes\",\"Sat\",\"Dinner\",2\\n22.67,2,\"Male\",\"Yes\",\"Sat\",\"Dinner\",2\\n17.82,1.75,\"Male\",\"No\",\"Sat\",\"Dinner\",2\\n18.78,3,\"Female\",\"No\",\"Thur\",\"Dinner\",2'"
            ]
          },
          "metadata": {
            "tags": []
          },
          "execution_count": 13
        }
      ]
    },
    {
      "cell_type": "code",
      "metadata": {
        "id": "IJlLVBk_BMNc",
        "colab_type": "code",
        "colab": {
          "base_uri": "https://localhost:8080/",
          "height": 35
        },
        "outputId": "1abb8fe0-9a82-4008-8cce-aae7f46c550b"
      },
      "source": [
        "f.read()"
      ],
      "execution_count": null,
      "outputs": [
        {
          "output_type": "execute_result",
          "data": {
            "application/vnd.google.colaboratory.intrinsic": {
              "type": "string"
            },
            "text/plain": [
              "''"
            ]
          },
          "metadata": {
            "tags": []
          },
          "execution_count": 14
        }
      ]
    },
    {
      "cell_type": "code",
      "metadata": {
        "id": "p6wuCX5_C_0a",
        "colab_type": "code",
        "colab": {
          "base_uri": "https://localhost:8080/",
          "height": 34
        },
        "outputId": "f8564155-22e1-4f5f-a1ee-a61ec6a3730b"
      },
      "source": [
        "f.closed"
      ],
      "execution_count": null,
      "outputs": [
        {
          "output_type": "execute_result",
          "data": {
            "text/plain": [
              "False"
            ]
          },
          "metadata": {
            "tags": []
          },
          "execution_count": 15
        }
      ]
    },
    {
      "cell_type": "code",
      "metadata": {
        "id": "JdSTyboZEn_X",
        "colab_type": "code",
        "colab": {}
      },
      "source": [
        "f.close() #This is very important"
      ],
      "execution_count": null,
      "outputs": []
    },
    {
      "cell_type": "code",
      "metadata": {
        "id": "iRL3djutErdc",
        "colab_type": "code",
        "colab": {
          "base_uri": "https://localhost:8080/",
          "height": 34
        },
        "outputId": "96374217-1be4-4b0b-8fb6-6eb0133eabf8"
      },
      "source": [
        "f.closed"
      ],
      "execution_count": null,
      "outputs": [
        {
          "output_type": "execute_result",
          "data": {
            "text/plain": [
              "True"
            ]
          },
          "metadata": {
            "tags": []
          },
          "execution_count": 17
        }
      ]
    },
    {
      "cell_type": "code",
      "metadata": {
        "id": "jl_85d9eEtKO",
        "colab_type": "code",
        "colab": {}
      },
      "source": [
        "f1 = open(path)"
      ],
      "execution_count": null,
      "outputs": []
    },
    {
      "cell_type": "code",
      "metadata": {
        "id": "V8arKFSkE2UU",
        "colab_type": "code",
        "colab": {
          "base_uri": "https://localhost:8080/",
          "height": 35
        },
        "outputId": "808ab041-d6bb-4d46-a018-f2c7121a1f27"
      },
      "source": [
        "f1.readline() # reads one line at a time"
      ],
      "execution_count": null,
      "outputs": [
        {
          "output_type": "execute_result",
          "data": {
            "application/vnd.google.colaboratory.intrinsic": {
              "type": "string"
            },
            "text/plain": [
              "'\"total_bill\",\"tip\",\"sex\",\"smoker\",\"day\",\"time\",\"size\"\\n'"
            ]
          },
          "metadata": {
            "tags": []
          },
          "execution_count": 19
        }
      ]
    },
    {
      "cell_type": "code",
      "metadata": {
        "id": "2CAOqaYiE6_M",
        "colab_type": "code",
        "colab": {
          "base_uri": "https://localhost:8080/",
          "height": 35
        },
        "outputId": "63d337e9-8330-42be-c1ae-78b5f58f7a0d"
      },
      "source": [
        "f1.readline() #second line"
      ],
      "execution_count": null,
      "outputs": [
        {
          "output_type": "execute_result",
          "data": {
            "application/vnd.google.colaboratory.intrinsic": {
              "type": "string"
            },
            "text/plain": [
              "'16.99,1.01,\"Female\",\"No\",\"Sun\",\"Dinner\",2\\n'"
            ]
          },
          "metadata": {
            "tags": []
          },
          "execution_count": 20
        }
      ]
    },
    {
      "cell_type": "code",
      "metadata": {
        "id": "DKJVzm6FFJb8",
        "colab_type": "code",
        "colab": {}
      },
      "source": [
        "f1.close()"
      ],
      "execution_count": null,
      "outputs": []
    },
    {
      "cell_type": "code",
      "metadata": {
        "id": "Gx-A2dhuFSKg",
        "colab_type": "code",
        "colab": {
          "base_uri": "https://localhost:8080/",
          "height": 34
        },
        "outputId": "e9e274bd-4ba5-4d94-be3f-a91e35e4c30b"
      },
      "source": [
        "f1.closed"
      ],
      "execution_count": null,
      "outputs": [
        {
          "output_type": "execute_result",
          "data": {
            "text/plain": [
              "True"
            ]
          },
          "metadata": {
            "tags": []
          },
          "execution_count": 24
        }
      ]
    },
    {
      "cell_type": "code",
      "metadata": {
        "id": "YX2Pe2nqF3NE",
        "colab_type": "code",
        "colab": {}
      },
      "source": [
        "f2 = open(path,'w')"
      ],
      "execution_count": null,
      "outputs": []
    },
    {
      "cell_type": "code",
      "metadata": {
        "id": "S4QAWrV4GOnQ",
        "colab_type": "code",
        "colab": {
          "base_uri": "https://localhost:8080/",
          "height": 34
        },
        "outputId": "356a7de9-04e0-4210-8a48-3d67d28a153c"
      },
      "source": [
        "f2.write('Hello I am after the last line')"
      ],
      "execution_count": null,
      "outputs": [
        {
          "output_type": "execute_result",
          "data": {
            "text/plain": [
              "30"
            ]
          },
          "metadata": {
            "tags": []
          },
          "execution_count": 27
        }
      ]
    },
    {
      "cell_type": "code",
      "metadata": {
        "id": "TReDdmg_GaVf",
        "colab_type": "code",
        "colab": {
          "base_uri": "https://localhost:8080/",
          "height": 166
        },
        "outputId": "799c7b63-8f8a-4c6e-d598-7ce8542cdf16"
      },
      "source": [
        "f2.read()"
      ],
      "execution_count": null,
      "outputs": [
        {
          "output_type": "error",
          "ename": "UnsupportedOperation",
          "evalue": "ignored",
          "traceback": [
            "\u001b[0;31m---------------------------------------------------------------------------\u001b[0m",
            "\u001b[0;31mUnsupportedOperation\u001b[0m                      Traceback (most recent call last)",
            "\u001b[0;32m<ipython-input-28-9b9061a9dfd0>\u001b[0m in \u001b[0;36m<module>\u001b[0;34m()\u001b[0m\n\u001b[0;32m----> 1\u001b[0;31m \u001b[0mf2\u001b[0m\u001b[0;34m.\u001b[0m\u001b[0mread\u001b[0m\u001b[0;34m(\u001b[0m\u001b[0;34m)\u001b[0m\u001b[0;34m\u001b[0m\u001b[0;34m\u001b[0m\u001b[0m\n\u001b[0m",
            "\u001b[0;31mUnsupportedOperation\u001b[0m: not readable"
          ]
        }
      ]
    },
    {
      "cell_type": "code",
      "metadata": {
        "id": "mH_KAenuGj9U",
        "colab_type": "code",
        "colab": {}
      },
      "source": [
        "f2.close()"
      ],
      "execution_count": null,
      "outputs": []
    },
    {
      "cell_type": "code",
      "metadata": {
        "id": "DMD7gc2JGffL",
        "colab_type": "code",
        "colab": {}
      },
      "source": [
        "f2 = open(path, 'r')"
      ],
      "execution_count": null,
      "outputs": []
    },
    {
      "cell_type": "code",
      "metadata": {
        "id": "1pp2MMB5GpE2",
        "colab_type": "code",
        "colab": {
          "base_uri": "https://localhost:8080/",
          "height": 35
        },
        "outputId": "ba3c38ce-f7fb-4ad2-b983-5ce0103a20b8"
      },
      "source": [
        "f2.read()"
      ],
      "execution_count": null,
      "outputs": [
        {
          "output_type": "execute_result",
          "data": {
            "application/vnd.google.colaboratory.intrinsic": {
              "type": "string"
            },
            "text/plain": [
              "'Hello I am after the last line'"
            ]
          },
          "metadata": {
            "tags": []
          },
          "execution_count": 31
        }
      ]
    },
    {
      "cell_type": "code",
      "metadata": {
        "id": "pt2eHqYBGqYx",
        "colab_type": "code",
        "colab": {}
      },
      "source": [
        "f3 = open( '/content/new_file.txt','w')"
      ],
      "execution_count": null,
      "outputs": []
    },
    {
      "cell_type": "code",
      "metadata": {
        "id": "DvOUNlIuHIRv",
        "colab_type": "code",
        "colab": {
          "base_uri": "https://localhost:8080/",
          "height": 34
        },
        "outputId": "9c07c934-85ce-4390-b8a4-97a314512e86"
      },
      "source": [
        "f3.write('Hello I am the only line here')"
      ],
      "execution_count": null,
      "outputs": [
        {
          "output_type": "execute_result",
          "data": {
            "text/plain": [
              "29"
            ]
          },
          "metadata": {
            "tags": []
          },
          "execution_count": 33
        }
      ]
    },
    {
      "cell_type": "code",
      "metadata": {
        "id": "HdcSIGe7HQBD",
        "colab_type": "code",
        "colab": {}
      },
      "source": [
        "f3.close()"
      ],
      "execution_count": null,
      "outputs": []
    },
    {
      "cell_type": "markdown",
      "metadata": {
        "id": "DPI4QfbrHqBX",
        "colab_type": "text"
      },
      "source": [
        "## working on file via with clause"
      ]
    },
    {
      "cell_type": "code",
      "metadata": {
        "id": "V-fn6IqoHVVQ",
        "colab_type": "code",
        "colab": {
          "base_uri": "https://localhost:8080/",
          "height": 34
        },
        "outputId": "6b253498-2610-4cc6-8358-73cd17d4733d"
      },
      "source": [
        "# with is a context manager\n",
        "with open('/content/tips.csv','r') as f:\n",
        "  for line in f:\n",
        "    print(line)"
      ],
      "execution_count": null,
      "outputs": [
        {
          "output_type": "stream",
          "text": [
            "I have been replaced\n"
          ],
          "name": "stdout"
        }
      ]
    },
    {
      "cell_type": "code",
      "metadata": {
        "id": "RVF-8NbiIL1i",
        "colab_type": "code",
        "colab": {
          "base_uri": "https://localhost:8080/",
          "height": 34
        },
        "outputId": "dcfadcd2-abd6-4549-e769-60da5067b99e"
      },
      "source": [
        "f.closed"
      ],
      "execution_count": null,
      "outputs": [
        {
          "output_type": "execute_result",
          "data": {
            "text/plain": [
              "True"
            ]
          },
          "metadata": {
            "tags": []
          },
          "execution_count": 38
        }
      ]
    },
    {
      "cell_type": "code",
      "metadata": {
        "id": "1ew5yWTDI3sb",
        "colab_type": "code",
        "colab": {}
      },
      "source": [
        "with open('/content/tips.csv','w') as f:\n",
        "  f.write('I have been replaced')"
      ],
      "execution_count": null,
      "outputs": []
    },
    {
      "cell_type": "code",
      "metadata": {
        "id": "6GOfut-rJGpj",
        "colab_type": "code",
        "colab": {}
      },
      "source": [
        ""
      ],
      "execution_count": null,
      "outputs": []
    },
    {
      "cell_type": "markdown",
      "metadata": {
        "id": "llaFv861JN7N",
        "colab_type": "text"
      },
      "source": [
        "# Exceptions"
      ]
    },
    {
      "cell_type": "code",
      "metadata": {
        "id": "svjRiFeOJRji",
        "colab_type": "code",
        "colab": {
          "base_uri": "https://localhost:8080/",
          "height": 131
        },
        "outputId": "975daa66-39a6-418b-8911-78e0ce51cac6"
      },
      "source": [
        "print('Hello)"
      ],
      "execution_count": null,
      "outputs": [
        {
          "output_type": "error",
          "ename": "SyntaxError",
          "evalue": "ignored",
          "traceback": [
            "\u001b[0;36m  File \u001b[0;32m\"<ipython-input-41-db8c9988558c>\"\u001b[0;36m, line \u001b[0;32m1\u001b[0m\n\u001b[0;31m    print('Hello)\u001b[0m\n\u001b[0m                 ^\u001b[0m\n\u001b[0;31mSyntaxError\u001b[0m\u001b[0;31m:\u001b[0m EOL while scanning string literal\n"
          ]
        }
      ]
    },
    {
      "cell_type": "code",
      "metadata": {
        "id": "uWxlpBA0Ji97",
        "colab_type": "code",
        "colab": {
          "base_uri": "https://localhost:8080/",
          "height": 131
        },
        "outputId": "e339c3e4-c823-4ea2-bd5e-beec413eeec5"
      },
      "source": [
        "try:\n",
        "  print('Hello)\n",
        "except:\n",
        "  print('Something is wrong')"
      ],
      "execution_count": null,
      "outputs": [
        {
          "output_type": "error",
          "ename": "SyntaxError",
          "evalue": "ignored",
          "traceback": [
            "\u001b[0;36m  File \u001b[0;32m\"<ipython-input-42-8b233f26208b>\"\u001b[0;36m, line \u001b[0;32m2\u001b[0m\n\u001b[0;31m    print('Hello)\u001b[0m\n\u001b[0m                 ^\u001b[0m\n\u001b[0;31mSyntaxError\u001b[0m\u001b[0;31m:\u001b[0m EOL while scanning string literal\n"
          ]
        }
      ]
    },
    {
      "cell_type": "code",
      "metadata": {
        "id": "YAm5d1QmJsWf",
        "colab_type": "code",
        "colab": {}
      },
      "source": [
        ""
      ],
      "execution_count": null,
      "outputs": []
    }
  ]
}